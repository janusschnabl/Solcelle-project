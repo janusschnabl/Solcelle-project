{
 "cells": [
  {
   "cell_type": "code",
   "execution_count": 80,
   "metadata": {},
   "outputs": [],
   "source": [
    "from sympy import*\n",
    "from dtumathtools import*\n",
    "import numpy as np\n",
    "init_printing()"
   ]
  },
  {
   "cell_type": "code",
   "execution_count": 84,
   "metadata": {},
   "outputs": [],
   "source": [
    "def solar_panel_projection(theta_s, phi_s, theta_p, phi_p):\n",
    "    proj = sin(theta_p) * sin(theta_s) * cos(phi_p - phi_s) + cos(theta_p + theta_s)\n",
    "    return max(proj,0)"
   ]
  },
  {
   "cell_type": "code",
   "execution_count": 82,
   "metadata": {},
   "outputs": [],
   "source": [
    "def solar_panel_projection_arrays(theta_s, phi_s, theta_p, phi_p):\n",
    "    if (len(theta_s) == len(phi_s) == len(theta_p) == len(phi_p)):\n",
    "        return np.array([solar_panel_projection(theta_s[i], phi_s[i], theta_p[i], phi_p[i]) for i in range(len(theta_s))])\n",
    "    else: \n",
    "        raise ValueError(\"Arrays do not have equal number of entries\")"
   ]
  },
  {
   "cell_type": "code",
   "execution_count": 83,
   "metadata": {},
   "outputs": [
    {
     "data": {
      "text/plain": [
       "array([0.707106781186548, 0, 0], dtype=object)"
      ]
     },
     "execution_count": 83,
     "metadata": {},
     "output_type": "execute_result"
    }
   ],
   "source": [
    "theta_sol = np.array([np.pi / 4, np.pi / 2, 0.0])\n",
    "phi_sol = np.array([np.pi, np.pi / 2, 0.0])\n",
    "theta_panel = np.array([0.0, np.pi / 2, np.pi])\n",
    "phi_panel = np.array([np.pi, 0.0, 0.0])\n",
    "\n",
    "solar_panel_projection_arrays(theta_sol, phi_sol, theta_panel, phi_panel)"
   ]
  },
  {
   "cell_type": "markdown",
   "metadata": {},
   "source": [
    "I det første tilfæde har vi: $sol(\\pi / 4, \\pi)$ og $panel(0, \\pi)$ panelet peger imod solen\n",
    "\n",
    "i det andet tilfælde har vi: $sol(\\pi / 2, \\pi / 2)$ og $panel(\\pi / 2, 0)$ panelet peger væk fra solen\n",
    "\n",
    "i det tredjhe tilfælde har vi $sol(0,0)$ og $panel(\\pi, 0)$ panel peger væk fra solen"
   ]
  }
 ],
 "metadata": {
  "kernelspec": {
   "display_name": "Python 3",
   "language": "python",
   "name": "python3"
  },
  "language_info": {
   "codemirror_mode": {
    "name": "ipython",
    "version": 3
   },
   "file_extension": ".py",
   "mimetype": "text/x-python",
   "name": "python",
   "nbconvert_exporter": "python",
   "pygments_lexer": "ipython3",
   "version": "3.11.5"
  },
  "orig_nbformat": 4
 },
 "nbformat": 4,
 "nbformat_minor": 2
}
